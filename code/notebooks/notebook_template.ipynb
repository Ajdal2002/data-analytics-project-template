{
 "cells": [
  {
   "cell_type": "markdown",
   "id": "75cd2fd2-75e0-417d-8e69-2afb4177ae98",
   "metadata": {},
   "source": [
    "# Project name"
   ]
  },
  {
   "cell_type": "markdown",
   "id": "17492d2a-ca98-4f88-8432-d1b0c9e7ba53",
   "metadata": {},
   "source": [
    "**Author:** Adrian Dale  \n",
    "**Last modified:** 11-13-2024 (created: 11-13-2024)  \n",
    "\n",
    "**Description:** Short paragraph explaining this project."
   ]
  },
  {
   "cell_type": "markdown",
   "id": "62c8bb9d-6756-4037-b80c-42198f953ca5",
   "metadata": {},
   "source": [
    "Import libraries:"
   ]
  },
  {
   "cell_type": "code",
   "execution_count": 2,
   "id": "9c2b76f7-8d21-489f-abc8-c819b69f25f7",
   "metadata": {},
   "outputs": [],
   "source": [
    "import pandas as pd "
   ]
  },
  {
   "cell_type": "markdown",
   "id": "53b8f1b4-5e8f-4249-a450-56146d6aaa4f",
   "metadata": {},
   "source": [
    "Load data:"
   ]
  },
  {
   "cell_type": "code",
   "execution_count": 3,
   "id": "58be432d-aab3-4a6c-b7b2-651013460e26",
   "metadata": {},
   "outputs": [],
   "source": [
    "# code to read csv file"
   ]
  }
 ],
 "metadata": {
  "kernelspec": {
   "display_name": "Python 3 (ipykernel)",
   "language": "python",
   "name": "python3"
  },
  "language_info": {
   "codemirror_mode": {
    "name": "ipython",
    "version": 3
   },
   "file_extension": ".py",
   "mimetype": "text/x-python",
   "name": "python",
   "nbconvert_exporter": "python",
   "pygments_lexer": "ipython3",
   "version": "3.12.4"
  }
 },
 "nbformat": 4,
 "nbformat_minor": 5
}
